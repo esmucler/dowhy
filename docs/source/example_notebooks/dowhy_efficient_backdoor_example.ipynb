{
 "cells": [
  {
   "cell_type": "markdown",
   "metadata": {},
   "source": [
    "# Finding optimal adjustment sets"
   ]
  },
  {
   "cell_type": "markdown",
   "metadata": {},
   "source": [
    "This notebook illustrates the use of the algorithms developed in [Smucler, Sapienza and Rotnitzky (2021)](https://doi.org/10.1093/biomet/asab018) and [Smucler and Rotnitzky (2022)](https://www.degruyter.com/document/doi/10.1515/jci-2022-0015/html) to compute efficient backdoor sets under various constraints."
   ]
  },
  {
   "cell_type": "markdown",
   "metadata": {},
   "source": [
    "### Preliminaries"
   ]
  },
  {
   "cell_type": "code",
   "execution_count": null,
   "metadata": {},
   "outputs": [],
   "source": [
    "from dowhy.causal_graph import CausalGraph\n",
    "from dowhy.causal_identifier import CausalIdentifier"
   ]
  },
  {
   "cell_type": "markdown",
   "metadata": {},
   "source": [
    "Consider the design of the following hypothetical observational study discussed in [Shrier & Platt (2008)](https://doi.org/10.1186/1471-2288-8-70). The aim of the study is to assess the\n",
    "effect of warm-up exercise on injury after playing sports. Suppose that a researcher postulates\n",
    "that the graph below represents a causal graphical model. The vertex warm-up is the treatment variable, which stands for the type of exercise an athlete performs prior to playing sports,\n",
    "and the vertex injury stands for the outcome variable. Suppose that the goal is to estimate and\n",
    "compare the interventional means corresponding to different individualised treatment rules. Each\n",
    "rule prescribes the type of warm-up exercise as a function of previous injury and team motivation. Suppose that due to practical limitations, the variables genetics, pre-grame proprioception,\n",
    "intra-game proprioception and tissue weakness cannot be measured.\n",
    "\n",
    "To build the graph, we first create a string declaring the graph's nodes and edges. We then create a list of all observable variables, in this case, all variables in the graph except genetics, pre-game proprioception, intra-game proprioception and tissue weakness. We then pass all this information to the ```CausalGraph``` class, to create an instance of it."
   ]
  },
  {
   "cell_type": "code",
   "execution_count": null,
   "metadata": {},
   "outputs": [],
   "source": [
    "graph_str=\"\"\"graph[directed 1 node[id \"coach\" label \"coach\"]\n",
    "                        node[id \"team motivation\" label \"team motivation\"]\n",
    "                        node[id \"fitness\" label \"fitness\"]\n",
    "                        node[id \"pre-game prop\" label \"pre-game prop\"]\n",
    "                        node[id \"intra-game prop\" label \"intra-game prop\"]                       \n",
    "                        node[id \"neuromusc fatigue\" label \"neuromusc fatigue\"]\n",
    "                        node[id \"warm-up\" label \"warm-up\"]\n",
    "                        node[id \"previous injury\" label \"previous injury\"]\n",
    "                        node[id \"contact sport\" label \"contact sport\"]\n",
    "                        node[id \"genetics\" label \"genetics\"]\n",
    "                        node[id \"injury\" label \"injury\"]\n",
    "                        node[id \"tissue disorder\" label \"tissue disorder\"]\n",
    "                        node[id \"tissue weakness\" label \"tissue weakness\"]\n",
    "                        edge[source \"coach\" target \"team motivation\"]\n",
    "                        edge[source \"coach\" target \"fitness\"]\n",
    "                        edge[source \"fitness\" target \"pre-game prop\"]\n",
    "                        edge[source \"fitness\" target \"neuromusc fatigue\"]\n",
    "                        edge[source \"team motivation\" target \"warm-up\"]\n",
    "                        edge[source \"team motivation\" target \"previous injury\"]\n",
    "                        edge[source \"pre-game prop\" target \"warm-up\"]\n",
    "                        edge[source \"warm-up\" target \"intra-game prop\"]\n",
    "                        edge[source \"contact sport\" target \"previous injury\"]\n",
    "                        edge[source \"contact sport\" target \"intra-game prop\"]\n",
    "                        edge[source \"intra-game prop\" target \"injury\"]\n",
    "                        edge[source \"genetics\" target \"fitness\"]\n",
    "                        edge[source \"genetics\" target \"neuromusc fatigue\"]\n",
    "                        edge[source \"genetics\" target \"tissue disorder\"]\n",
    "                        edge[source \"tissue disorder\" target \"neuromusc fatigue\"]\n",
    "                        edge[source \"tissue disorder\" target \"tissue weakness\"]\n",
    "                        edge[source \"neuromusc fatigue\" target \"intra-game prop\"]\n",
    "                        edge[source \"neuromusc fatigue\" target \"injury\"]\n",
    "                        edge[source \"tissue weakness\" target \"injury\"]\n",
    "                        ]\n",
    "\"\"\"\n",
    "observed_node_names=[\"coach\", \"team motivation\", \"fitness\", \"neuromusc fatigue\",\n",
    "                    \"warm-up\", \"previous injury\", \"contact sport\", \"tissue disorder\", \"injury\"]\n",
    "treatment_name = \"warm-up\"\n",
    "outcome_name = \"injury\"\n",
    "G = CausalGraph(graph=graph_str, treatment_name=treatment_name, outcome_name=outcome_name,\n",
    "                observed_node_names=observed_node_names)"
   ]
  },
  {
   "cell_type": "markdown",
   "metadata": {},
   "source": [
    "We can easily create a plot of the graph using the ```view_graph``` method."
   ]
  },
  {
   "cell_type": "code",
   "execution_count": null,
   "metadata": {},
   "outputs": [],
   "source": [
    "G.view_graph()"
   ]
  },
  {
   "cell_type": "markdown",
   "metadata": {},
   "source": [
    "The optimal backdoor set is a backdoor set comprised of observable variables that yields non-parametric\n",
    "estimators of the interventional mean with the smallest asymptotic variance\n",
    "among those that are based on observable backdoor sets. This optimal backdoor\n",
    "set always exists when no variables are latent, and the algorithm is guaranteed to compute\n",
    "it in this case. Under a non-parametric graphical model with latent variables,\n",
    "such a backdoor set can fail to exist. \n",
    "\n",
    "The optimal minimal backdoor set is a minimal backdoor set comprised of observable variables that yields non-parametric\n",
    "estimators of the interventional mean with the smallest asymptotic variance\n",
    "among those that are based on observable minimal backdoor sets.\n",
    "\n",
    "The optimal minimum cost backdoor set is a minimum cost backdoor set comprised of observable variables that yields non-parametric estimators of the interventional mean with the smallest asymptotic variance\n",
    "among those that are based on observable minimum cost backdoor sets. The cost\n",
    "of a backdoor set is defined as the sum of the costs of the variables that comprise it. Note that \n",
    "when all costs are equal, the optimal minimum cost backdoor set is the optimal backdoor set among those that \n",
    "have minimum cardinality.\n",
    "\n",
    "These various optimal backdoor sets are not only optimal under\n",
    "non-parametric graphical models and non-parametric estimators of interventional mean,\n",
    "but also under linear graphical models and OLS estimators, per results in Henckel, Perkovic\n",
    "and Maathuis (2020).\n",
    "\n",
    "Next, we illustrate how to compute these backdoor sets for the example graph above, using the ```CausalIdentifier``` class. To compute the optimal backdoor set, optimal minimal backdoor set and optimal minimum cost backdoor set, we need to instantiate objects of the ```CausalIdentifier``` class, passing as ```method_name``` the values \"efficient-adjustment\", \"efficient-minimal-adjustment\" and \"efficient-mincost-adjustment\" respectively. Then, we need to call the ```identify_effect``` method, passing as an argument a list of conditional nodes, that is, the nodes that would be used to decide how to allocate treatment. As discussed above, in this example these nodes are previous injury and team motivation. For settings in which we are not interested in individualized interventions, we can just pass an empty list as conditional nodes."
   ]
  },
  {
   "cell_type": "code",
   "execution_count": null,
   "metadata": {},
   "outputs": [],
   "source": [
    "conditional_node_names=[\"previous injury\", \"team motivation\"]"
   ]
  },
  {
   "cell_type": "code",
   "execution_count": null,
   "metadata": {},
   "outputs": [],
   "source": [
    "ident_eff = CausalIdentifier(\n",
    "        graph=G,\n",
    "        estimand_type=\"nonparametric-ate\",\n",
    "        method_name=\"efficient-adjustment\",\n",
    "    )\n",
    "print(ident_eff.identify_effect(conditional_node_names=conditional_node_names))"
   ]
  },
  {
   "cell_type": "markdown",
   "metadata": {},
   "source": [
    "Thus, the optimal backdoor set is formed by previous injury, neuromusc fatigue, team motivation, tissue disorder and contact sport."
   ]
  },
  {
   "cell_type": "markdown",
   "metadata": {},
   "source": [
    "Similarly, we can compute the optimal minimal backdoor set."
   ]
  },
  {
   "cell_type": "code",
   "execution_count": null,
   "metadata": {},
   "outputs": [],
   "source": [
    "ident_minimal_eff = CausalIdentifier(\n",
    "        graph=G,\n",
    "        estimand_type=\"nonparametric-ate\",\n",
    "        method_name=\"efficient-minimal-adjustment\",\n",
    "    )\n",
    "print(ident_minimal_eff.identify_effect(conditional_node_names=conditional_node_names))"
   ]
  },
  {
   "cell_type": "markdown",
   "metadata": {},
   "source": [
    "Finally, we can compute the optimal minimum cost backdoor set. Since this graph does not have any costs associated with its nodes, we will not pass any costs to ```identify_effect```. The method will raise a warning, set the costs to one, and compute the optimal minimum cost backdoor set, which as stated above, in this case coincides with the optimal backdoor set of minimum cardinality."
   ]
  },
  {
   "cell_type": "code",
   "execution_count": null,
   "metadata": {},
   "outputs": [],
   "source": [
    "ident_mincost_eff = CausalIdentifier(\n",
    "        graph=G,\n",
    "        estimand_type=\"nonparametric-ate\",\n",
    "        method_name=\"efficient-mincost-adjustment\",\n",
    "    )\n",
    "print(ident_mincost_eff.identify_effect(conditional_node_names=conditional_node_names))"
   ]
  },
  {
   "cell_type": "markdown",
   "metadata": {},
   "source": [
    "Later, we will compute the optimal minimum cost backdoor set for a graph with costs associated with its nodes."
   ]
  },
  {
   "cell_type": "markdown",
   "metadata": {},
   "source": [
    "### An example in which sufficient conditions to guarantee the existance of an optimal backdoor set do not hold"
   ]
  },
  {
   "cell_type": "markdown",
   "metadata": {},
   "source": [
    "For the graph below, it can be shown that the sufficient conditions to guarantee the existance of an optimal backdoor set introduced in [Smucler, Sapienza and Rotnitzky (2021)](https://doi.org/10.1093/biomet/asab018) do not hold. In this case, calling the ```identify_effect``` method of an instance of ```CausalIdentifier``` with attribute ```method_name``` equal to \"efficient-adjustment\" will raise an error. In fact, for this example it can be shown that an observable optimal backdoor set does not exist; see Example 3 in the aforementioned paper. However, optimal minimal and optimal minimum cost (cardinality) observable backdoor sets always exist, as long as there exists at least one backdoor set comprised of observable variables. For this graph, the optimal minimal and the optimal minimum cardinality backdoor sets are equal to the empty set."
   ]
  },
  {
   "cell_type": "code",
   "execution_count": null,
   "metadata": {},
   "outputs": [],
   "source": [
    "graph_str=\"\"\"graph[directed 1 node[id \"X\" label \"X\"]\n",
    "                        node[id \"Y\" label \"Y\"]\n",
    "                        node[id \"Z1\" label \"Z1\"]\n",
    "                        node[id \"Z2\" label \"Z2\"]\n",
    "                        node[id \"U\" label \"U\"]                       \n",
    "                        edge[source \"X\" target \"Y\"]\n",
    "                        edge[source \"Z1\" target \"X\"]\n",
    "                        edge[source \"Z1\" target \"Z2\"]\n",
    "                        edge[source \"U\" target \"Z2\"]\n",
    "                        edge[source \"U\" target \"Y\"]\n",
    "                        ]\n",
    "\"\"\"\n",
    "observed_node_names = ['X', 'Y', 'Z1', 'Z2']\n",
    "treatment_name = 'X'\n",
    "outcome_name = 'Y'\n",
    "G = CausalGraph(graph=graph_str, treatment_name=treatment_name, outcome_name=outcome_name,\n",
    "                observed_node_names=observed_node_names)"
   ]
  },
  {
   "cell_type": "markdown",
   "metadata": {},
   "source": [
    "In this example, the treatment intervention is static, thus there are no conditional nodes."
   ]
  },
  {
   "cell_type": "code",
   "execution_count": null,
   "metadata": {},
   "outputs": [],
   "source": [
    "ident_eff = CausalIdentifier(\n",
    "        graph=G,\n",
    "        estimand_type=\"nonparametric-ate\",\n",
    "        method_name=\"efficient-adjustment\",\n",
    "    )\n",
    "results_eff=ident_eff.identify_effect()\n",
    "results_eff"
   ]
  },
  {
   "cell_type": "code",
   "execution_count": null,
   "metadata": {},
   "outputs": [],
   "source": [
    "ident_minimal_eff = CausalIdentifier(\n",
    "        graph=G,\n",
    "        estimand_type=\"nonparametric-ate\",\n",
    "        method_name=\"efficient-minimal-adjustment\",\n",
    "    )\n",
    "print(ident_minimal_eff.identify_effect())"
   ]
  },
  {
   "cell_type": "code",
   "execution_count": null,
   "metadata": {},
   "outputs": [],
   "source": [
    "ident_mincost_eff = CausalIdentifier(\n",
    "        graph=G,\n",
    "        estimand_type=\"nonparametric-ate\",\n",
    "        method_name=\"efficient-mincost-adjustment\",\n",
    "    )\n",
    "print(ident_mincost_eff.identify_effect())"
   ]
  },
  {
   "cell_type": "markdown",
   "metadata": {},
   "source": [
    "### An example in which there are no observable adjustment sets"
   ]
  },
  {
   "cell_type": "markdown",
   "metadata": {},
   "source": [
    "In the graph below there are no adjustment sets comprised of only observable variables. In this setting, using any of the above methods will raise an error."
   ]
  },
  {
   "cell_type": "code",
   "execution_count": null,
   "metadata": {},
   "outputs": [],
   "source": [
    "graph_str=\"\"\"graph[directed 1 node[id \"X\" label \"X\"]\n",
    "                        node[id \"Y\" label \"Y\"]\n",
    "                        node[id \"U\" label \"U\"]                       \n",
    "                        edge[source \"X\" target \"Y\"]\n",
    "                        edge[source \"U\" target \"X\"]\n",
    "                        edge[source \"U\" target \"Y\"]\n",
    "                        ]\n",
    "\"\"\"\n",
    "observed_node_names = ['X', 'Y']\n",
    "treatment_name = 'X'\n",
    "outcome_name = 'Y'\n",
    "G = CausalGraph(graph=graph_str, treatment_name=treatment_name, outcome_name=outcome_name,\n",
    "                observed_node_names=observed_node_names)"
   ]
  },
  {
   "cell_type": "code",
   "execution_count": null,
   "metadata": {},
   "outputs": [],
   "source": [
    "ident_eff = CausalIdentifier(\n",
    "        graph=G,\n",
    "        estimand_type=\"nonparametric-ate\",\n",
    "        method_name=\"efficient-adjustment\",\n",
    "    )\n",
    "results_eff=ident_eff.identify_effect()"
   ]
  },
  {
   "cell_type": "markdown",
   "metadata": {},
   "source": [
    "### An example with costs"
   ]
  },
  {
   "cell_type": "markdown",
   "metadata": {},
   "source": [
    "This is the graph in Figures 1 and 2 of [Smucler and Rotnitzky (2022)](https://arxiv.org/abs/2201.02037). Here we assume that there are positive costs associated to observable variables."
   ]
  },
  {
   "cell_type": "code",
   "execution_count": null,
   "metadata": {
    "pycharm": {
     "name": "#%%\n"
    }
   },
   "outputs": [],
   "source": [
    "graph_str=\"\"\"graph[directed 1 node[id \"L\" label \"L\"]\n",
    "                        node[id \"X\" label \"X\"]\n",
    "                        node[id \"K\" label \"K\"]\n",
    "                        node[id \"B\" label \"B\"]\n",
    "                        node[id \"Q\" label \"Q\"]\n",
    "                        node[id \"R\" label \"R\"]\n",
    "                        node[id \"T\" label \"T\"]\n",
    "                        node[id \"M\" label \"M\"]\n",
    "                        node[id \"Y\" label \"Y\"]\n",
    "                        node[id \"U\" label \"U\"]\n",
    "                        node[id \"F\" label \"F\"]\n",
    "                        edge[source \"L\" target \"X\"]\n",
    "                        edge[source \"X\" target \"M\"]\n",
    "                        edge[source \"K\" target \"X\"]\n",
    "                        edge[source \"B\" target \"K\"]\n",
    "                        edge[source \"B\" target \"R\"]\n",
    "                        edge[source \"Q\" target \"K\"]\n",
    "                        edge[source \"Q\" target \"T\"]\n",
    "                        edge[source \"R\" target \"Y\"]\n",
    "                        edge[source \"T\" target \"Y\"]\n",
    "                        edge[source \"M\" target \"Y\"]\n",
    "                        edge[source \"U\" target \"Y\"]\n",
    "                        edge[source \"U\" target \"F\"]\n",
    "                        ]\n",
    "                        \"\"\"\n",
    "observed_node_names=[\"L\", \"X\", \"B\", \"K\", \"Q\", \"R\", \"M\", \"T\", \"Y\", \"F\"]\n",
    "conditional_node_names=[\"L\"]\n",
    "costs=[\n",
    "    (\"L\", {\"cost\": 1}),\n",
    "    (\"B\", {\"cost\": 1}),\n",
    "    (\"K\", {\"cost\": 4}),\n",
    "    (\"Q\", {\"cost\": 1}),\n",
    "    (\"R\", {\"cost\": 2}),\n",
    "    (\"T\", {\"cost\": 1}),\n",
    "]\n",
    "G = CausalGraph(graph=graph_str, treatment_name=treatment_name, outcome_name=outcome_name,\n",
    "                observed_node_names=observed_node_names)"
   ]
  },
  {
   "cell_type": "markdown",
   "metadata": {},
   "source": [
    "Notice how in this case we pass both the ```conditional_node_names``` list and the ```costs``` list to the ```identify_effect``` method."
   ]
  },
  {
   "cell_type": "code",
   "execution_count": null,
   "metadata": {
    "pycharm": {
     "name": "#%%\n"
    }
   },
   "outputs": [],
   "source": [
    "ident_mincost_eff = CausalIdentifier(\n",
    "        graph=G,\n",
    "        estimand_type=\"nonparametric-ate\",\n",
    "        method_name=\"efficient-mincost-adjustment\",\n",
    "    )\n",
    "print(ident_mincost_eff.identify_effect(conditional_node_names=conditional_node_names, costs=costs))"
   ]
  },
  {
   "cell_type": "markdown",
   "metadata": {},
   "source": [
    "We also compute the optimal minimal backdoor set, which in this case is different from the optimal minimum cost backdoor set."
   ]
  },
  {
   "cell_type": "code",
   "execution_count": null,
   "metadata": {},
   "outputs": [],
   "source": [
    "ident_minimal_eff = CausalIdentifier(\n",
    "        graph=G,\n",
    "        estimand_type=\"nonparametric-ate\",\n",
    "        method_name=\"efficient-minimal-adjustment\",\n",
    "    )\n",
    "print(ident_minimal_eff.identify_effect(conditional_node_names=conditional_node_names))"
   ]
  }
 ],
 "metadata": {
  "kernelspec": {
   "display_name": "dowhy",
   "language": "python",
   "name": "dowhy"
  },
  "language_info": {
   "codemirror_mode": {
    "name": "ipython",
    "version": 3
   },
   "file_extension": ".py",
   "mimetype": "text/x-python",
   "name": "python",
   "nbconvert_exporter": "python",
   "pygments_lexer": "ipython3",
   "version": "3.9.7"
  },
  "varInspector": {
   "cols": {
    "lenName": 16,
    "lenType": 16,
    "lenVar": 40
   },
   "kernels_config": {
    "python": {
     "delete_cmd_postfix": "",
     "delete_cmd_prefix": "del ",
     "library": "var_list.py",
     "varRefreshCmd": "print(var_dic_list())"
    },
    "r": {
     "delete_cmd_postfix": ") ",
     "delete_cmd_prefix": "rm(",
     "library": "var_list.r",
     "varRefreshCmd": "cat(var_dic_list()) "
    }
   },
   "types_to_exclude": [
    "module",
    "function",
    "builtin_function_or_method",
    "instance",
    "_Feature"
   ],
   "window_display": false
  }
 },
 "nbformat": 4,
 "nbformat_minor": 4
}
